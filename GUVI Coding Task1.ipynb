{
 "cells": [
  {
   "cell_type": "code",
   "execution_count": 3,
   "metadata": {},
   "outputs": [
    {
     "name": "stdout",
     "output_type": "stream",
     "text": [
      "Count of a: 1\n",
      "Count of e: 5\n",
      "Count of i: 4\n",
      "Count of o: 1\n",
      "Count of u: 1\n"
     ]
    }
   ],
   "source": [
    "#count total vowels from the input \"Guvi Geeks Network Private Limited\"\n",
    "def count_vowels(string): #defined the function to calculate the vowels\n",
    "    #variable to store the vowels\n",
    "    count_a = 0 \n",
    "    count_e = 0 \n",
    "    count_i = 0 \n",
    "    count_o = 0 \n",
    "    count_u = 0 \n",
    "    string = string.lower() #changed the input as lowercase\n",
    "    for char in string: #loop for count\n",
    "        if char == 'a':\n",
    "            count_a += 1\n",
    "        if char == 'e':\n",
    "            count_e += 1\n",
    "        if char == 'i':\n",
    "            count_i += 1\n",
    "        if char == 'o':\n",
    "            count_o += 1\n",
    "        if char == 'u':\n",
    "            count_u += 1\n",
    "        \n",
    "    print (\"Count of a:\", count_a)\n",
    "    print (\"Count of e:\", count_e)\n",
    "    print (\"Count of i:\", count_i)\n",
    "    print (\"Count of o:\", count_o)\n",
    "    print (\"Count of u:\", count_u)\n",
    "        \n",
    "string = input(\"Enter a String: \")\n",
    "count_vowels(string)"
   ]
  },
  {
   "cell_type": "code",
   "execution_count": 80,
   "metadata": {},
   "outputs": [
    {
     "name": "stdout",
     "output_type": "stream",
     "text": [
      "    1 \n",
      "   2 3 \n",
      "  4 5 6 \n",
      " 7 8 9 10 \n",
      "11 12 13 14 15 \n"
     ]
    }
   ],
   "source": [
    "row=5 # Number of rows in the pyramid\n",
    "number=1 #starting number\n",
    "\n",
    "#outer loop for rows\n",
    "for i in range(1, row+1):\n",
    "    print(\" \"*(row-i),end=\"\")\n",
    "#Inner loop for numbers in each row\n",
    "    for j in range(1, i+1):\n",
    "        print(number, end=\" \")\n",
    "        number=number+1\n",
    "    print()    \n",
    "    "
   ]
  },
  {
   "cell_type": "code",
   "execution_count": 82,
   "metadata": {},
   "outputs": [
    {
     "name": "stdout",
     "output_type": "stream",
     "text": [
      "guvi geeks network private limited\n",
      "gv gks ntwrk prvt lmtd"
     ]
    }
   ],
   "source": [
    "str=input(\"enter a string\") #get input string\n",
    "print(str)\n",
    "for char in str:\n",
    "    if char=='a':\n",
    "        print(end='')\n",
    "    elif char=='e':\n",
    "        print(end='')\n",
    "    elif char=='i':\n",
    "        print(end='')\n",
    "    elif char=='o':\n",
    "        print(end='')\n",
    "    elif char =='u':\n",
    "        print(end='')\n",
    "    else:\n",
    "        \n",
    "        print(char, end='') "
   ]
  },
  {
   "cell_type": "code",
   "execution_count": 2,
   "metadata": {},
   "outputs": [
    {
     "name": "stdout",
     "output_type": "stream",
     "text": [
      "Number of unique characters: 18\n"
     ]
    }
   ],
   "source": [
    "def unique_characters_count(input_string):\n",
    "    # Use a set to store unique characters\n",
    "    unique_chars = set()\n",
    "    \n",
    "    # Iterate through each character in the input string\n",
    "    for char in input_string:\n",
    "        # Add the character to the set\n",
    "        unique_chars.add(char)\n",
    "    \n",
    "    # Return the number of unique characters\n",
    "    return len(unique_chars)\n",
    "\n",
    "# Test the function\n",
    "input_string = input(\"Enter a string: \")\n",
    "result = unique_characters_count(input_string)\n",
    "print(\"Number of unique characters:\", result)\n"
   ]
  },
  {
   "cell_type": "markdown",
   "metadata": {},
   "source": []
  },
  {
   "cell_type": "code",
   "execution_count": 8,
   "metadata": {},
   "outputs": [
    {
     "name": "stdout",
     "output_type": "stream",
     "text": [
      "Enter a string:  malayalam\n",
      "True\n"
     ]
    }
   ],
   "source": [
    "def palindrome(input_string):\n",
    "    # Remove spaces and convert to lowercase\n",
    "    input_string = input_string.replace(\" \", \"\").lower()\n",
    "    \n",
    "    # Check if the string is equal to its reverse\n",
    "    return input_string == input_string[::-1]\n",
    "\n",
    "# Test the function\n",
    "input_string = input(\"Enter a string: \")\n",
    "result = palindrome(input_string)\n",
    "print(\"Enter a string: \", input_string)\n",
    "\n",
    "if result:\n",
    "    print(\"True\")\n",
    "else:\n",
    "    print(\"False\")\n"
   ]
  },
  {
   "cell_type": "code",
   "execution_count": 2,
   "metadata": {},
   "outputs": [
    {
     "name": "stdout",
     "output_type": "stream",
     "text": [
      "pinapple\n"
     ]
    }
   ],
   "source": [
    "#printing longest common substring from given two inputs\n",
    "first_string = input(\"Enter first string: \") #getting first input\n",
    "second_string = input(\"Enter second string: \") #getting second input\n",
    "\n",
    "string = (first_string, second_string) #storing the strings in a variable\n",
    "long_sub_string = max(string, key=len) #finding longest string\n",
    "print(long_sub_string)\n",
    "\n",
    "    \n",
    "    \n"
   ]
  },
  {
   "cell_type": "code",
   "execution_count": 9,
   "metadata": {},
   "outputs": [
    {
     "name": "stdout",
     "output_type": "stream",
     "text": [
      "banana\n",
      "The frequent characters are a\n"
     ]
    }
   ],
   "source": [
    "#print the frequent characters from given input\n",
    "def freq_char(input): #defined function to get input\n",
    "    print(input) \n",
    "    count = {}\n",
    "    for char in input: \n",
    "        if char in count:\n",
    "            count[char] += 1\n",
    "        else:\n",
    "            count[char] = 1\n",
    "    result = max(count, key=count.get)\n",
    "    print(\"The frequent characters are \" + result)\n",
    "\n",
    "# Test the function\n",
    "input_string = input(\"Enter a string: \")\n",
    "freq_char(input_string)\n",
    "\n"
   ]
  },
  {
   "cell_type": "code",
   "execution_count": 20,
   "metadata": {},
   "outputs": [
    {
     "name": "stdout",
     "output_type": "stream",
     "text": [
      "abcd and bacd are anagrams.\n"
     ]
    }
   ],
   "source": [
    "def anagrams(str1, str2):\n",
    "    # Convert both the strings into lowercase\n",
    "    str1 = str1.lower()\n",
    "    str2 = str2.lower()\n",
    "\n",
    "    # Check if length is same\n",
    "    if len(str1) == len(str2):\n",
    "        # Sort the strings\n",
    "        sorted_str1 = sorted(str1)\n",
    "        sorted_str2 = sorted(str2)\n",
    "\n",
    "        # If sorted char arrays are same\n",
    "        if sorted_str1 == sorted_str2:\n",
    "            return True\n",
    "        else:\n",
    "            return False\n",
    "    else:\n",
    "        return False\n",
    "\n",
    "# Test the function\n",
    "input_str1 = input(\"Enter the first string: \")\n",
    "input_str2 = input(\"Enter the second string: \")\n",
    "\n",
    "if anagrams(input_str1, input_str2):\n",
    "    print(input_str1 + \" and \" + input_str2 + \" are anagrams.\")\n",
    "else:\n",
    "    print(input_str1 + \" and \" + input_str2 + \" are not anagrams.\")\n"
   ]
  },
  {
   "cell_type": "code",
   "execution_count": 21,
   "metadata": {},
   "outputs": [
    {
     "name": "stdout",
     "output_type": "stream",
     "text": [
      "Number of words: 3\n"
     ]
    }
   ],
   "source": [
    "def count_words(input_string):\n",
    "    # Split the string into words using whitespace as delimiter\n",
    "    words = input_string.split()\n",
    "\n",
    "    # Return the number of words\n",
    "    return len(words)\n",
    "\n",
    "# Input string\n",
    "input_string = input(\"Enter a string: \")\n",
    "\n",
    "# Count words\n",
    "word_count = count_words(input_string)\n",
    "\n",
    "# Print the result\n",
    "print(\"Number of words:\", word_count)\n"
   ]
  }
 ],
 "metadata": {
  "kernelspec": {
   "display_name": "Python 3",
   "language": "python",
   "name": "python3"
  },
  "language_info": {
   "codemirror_mode": {
    "name": "ipython",
    "version": 3
   },
   "file_extension": ".py",
   "mimetype": "text/x-python",
   "name": "python",
   "nbconvert_exporter": "python",
   "pygments_lexer": "ipython3",
   "version": "3.12.0"
  }
 },
 "nbformat": 4,
 "nbformat_minor": 2
}
