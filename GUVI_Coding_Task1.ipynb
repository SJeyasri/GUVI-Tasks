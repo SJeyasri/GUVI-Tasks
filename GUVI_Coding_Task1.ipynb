{
 "cells": [
  {
   "cell_type": "code",
   "execution_count": 51,
   "metadata": {},
   "outputs": [
    {
     "name": "stdout",
     "output_type": "stream",
     "text": [
      "Count of a: 0\n",
      "Count of e: 0\n",
      "Count of i: 0\n",
      "Count of o: 0\n",
      "Count of u: 0\n"
     ]
    }
   ],
   "source": [
    "\n",
    "def count_vowels(string):\n",
    "    count_a = 0\n",
    "    count_e = 0\n",
    "    count_i = 0\n",
    "    count_o = 0\n",
    "    count_u = 0\n",
    "    string = string.lower()\n",
    "    for char in string:\n",
    "        if char == 'a':\n",
    "            count_a += 1\n",
    "        if char == 'e':\n",
    "            count_e += 1\n",
    "        if char == 'i':\n",
    "            count_i += 1\n",
    "        if char == 'o':\n",
    "            count_o += 1\n",
    "        if char == 'u':\n",
    "            count_u += 1\n",
    "        \n",
    "    print (\"Count of a:\", count_a)\n",
    "    print (\"Count of e:\", count_e)\n",
    "    print (\"Count of i:\", count_i)\n",
    "    print (\"Count of o:\", count_o)\n",
    "    print (\"Count of u:\", count_u)\n",
    "        \n",
    "string = input(\"Enter a String: \")\n",
    "count_vowels(string)"
   ]
  },
  {
   "cell_type": "code",
   "execution_count": 80,
   "metadata": {},
   "outputs": [
    {
     "name": "stdout",
     "output_type": "stream",
     "text": [
      "    1 \n",
      "   2 3 \n",
      "  4 5 6 \n",
      " 7 8 9 10 \n",
      "11 12 13 14 15 \n"
     ]
    }
   ],
   "source": [
    "row=5 # Number of rows in the pyramid\n",
    "number=1 #starting number\n",
    "\n",
    "#outer loop for rows\n",
    "for i in range(1, row+1):\n",
    "    print(\" \"*(row-i),end=\"\")\n",
    "#Inner loop for numbers in each row\n",
    "    for j in range(1, i+1):\n",
    "        print(number, end=\" \")\n",
    "        number=number+1\n",
    "    print()    \n",
    "    "
   ]
  },
  {
   "cell_type": "code",
   "execution_count": 82,
   "metadata": {},
   "outputs": [
    {
     "name": "stdout",
     "output_type": "stream",
     "text": [
      "guvi geeks network private limited\n",
      "gv gks ntwrk prvt lmtd"
     ]
    }
   ],
   "source": [
    "str=input(\"enter a string\") #get input string\n",
    "print(str)\n",
    "for char in str:\n",
    "    if char=='a':\n",
    "        print(end='')\n",
    "    elif char=='e':\n",
    "        print(end='')\n",
    "    elif char=='i':\n",
    "        print(end='')\n",
    "    elif char=='o':\n",
    "        print(end='')\n",
    "    elif char =='u':\n",
    "        print(end='')\n",
    "    else:\n",
    "        \n",
    "        print(char, end='') "
   ]
  },
  {
   "cell_type": "code",
   "execution_count": 2,
   "metadata": {},
   "outputs": [
    {
     "name": "stdout",
     "output_type": "stream",
     "text": [
      "Number of unique characters: 18\n"
     ]
    }
   ],
   "source": [
    "def unique_characters_count(input_string):\n",
    "    # Use a set to store unique characters\n",
    "    unique_chars = set()\n",
    "    \n",
    "    # Iterate through each character in the input string\n",
    "    for char in input_string:\n",
    "        # Add the character to the set\n",
    "        unique_chars.add(char)\n",
    "    \n",
    "    # Return the number of unique characters\n",
    "    return len(unique_chars)\n",
    "\n",
    "# Test the function\n",
    "input_string = input(\"Enter a string: \")\n",
    "result = unique_characters_count(input_string)\n",
    "print(\"Number of unique characters:\", result)\n"
   ]
  },
  {
   "cell_type": "markdown",
   "metadata": {},
   "source": []
  },
  {
   "cell_type": "code",
   "execution_count": 8,
   "metadata": {},
   "outputs": [
    {
     "name": "stdout",
     "output_type": "stream",
     "text": [
      "Enter a string:  malayalam\n",
      "True\n"
     ]
    }
   ],
   "source": [
    "def palindrome(input_string):\n",
    "    # Remove spaces and convert to lowercase\n",
    "    input_string = input_string.replace(\" \", \"\").lower()\n",
    "    \n",
    "    # Check if the string is equal to its reverse\n",
    "    return input_string == input_string[::-1]\n",
    "\n",
    "# Test the function\n",
    "input_string = input(\"Enter a string: \")\n",
    "result = palindrome(input_string)\n",
    "print(\"Enter a string: \", input_string)\n",
    "\n",
    "if result:\n",
    "    print(\"True\")\n",
    "else:\n",
    "    print(\"False\")\n"
   ]
  },
  {
   "cell_type": "code",
   "execution_count": 25,
   "metadata": {},
   "outputs": [
    {
     "name": "stdout",
     "output_type": "stream",
     "text": [
      "<function match at 0x1045300e0>\n"
     ]
    },
    {
     "ename": "AttributeError",
     "evalue": "'function' object has no attribute 'a'",
     "output_type": "error",
     "traceback": [
      "\u001b[0;31m---------------------------------------------------------------------------\u001b[0m",
      "\u001b[0;31mAttributeError\u001b[0m                            Traceback (most recent call last)",
      "Cell \u001b[0;32mIn[25], line 8\u001b[0m\n\u001b[1;32m      5\u001b[0m     match \u001b[38;5;241m=\u001b[39m SequenceMatcher(\u001b[38;5;28;01mNone\u001b[39;00m, first_string, second_string)\u001b[38;5;241m.\u001b[39mfind_longest_match()\n\u001b[1;32m      7\u001b[0m \u001b[38;5;28mprint\u001b[39m(match)  \u001b[38;5;66;03m# -> Match(a=0, b=15, size=9)\u001b[39;00m\n\u001b[0;32m----> 8\u001b[0m \u001b[38;5;28mprint\u001b[39m(first_string[\u001b[43mmatch\u001b[49m\u001b[38;5;241;43m.\u001b[39;49m\u001b[43ma\u001b[49m:match\u001b[38;5;241m.\u001b[39ma \u001b[38;5;241m+\u001b[39m match\u001b[38;5;241m.\u001b[39msize])  \u001b[38;5;66;03m# -> apple pie\u001b[39;00m\n\u001b[1;32m      9\u001b[0m \u001b[38;5;28mprint\u001b[39m(second_string[match\u001b[38;5;241m.\u001b[39mb:match\u001b[38;5;241m.\u001b[39mb \u001b[38;5;241m+\u001b[39m match\u001b[38;5;241m.\u001b[39msize])  \u001b[38;5;66;03m# -> apple pie\u001b[39;00m\n",
      "\u001b[0;31mAttributeError\u001b[0m: 'function' object has no attribute 'a'"
     ]
    }
   ],
   "source": [
    "first_string = input(\"Enter first string: \")\n",
    "second_string = input(\"Enter second string: \")\n",
    "\n",
    "def match(first_string, second_string):\n",
    "    match = SequenceMatcher(None, first_string, second_string).find_longest_match()\n",
    "\n",
    "print(match)  # -> Match(a=0, b=15, size=9)\n",
    "print(first_string[match.a:match.a + match.size])  # -> apple pie\n",
    "print(second_string[match.b:match.b + match.size])  # -> apple pie\n",
    "\n",
    "    \n",
    "    \n"
   ]
  },
  {
   "cell_type": "code",
   "execution_count": 23,
   "metadata": {},
   "outputs": [
    {
     "name": "stdout",
     "output_type": "stream",
     "text": [
      "Longest common substring:  check\n"
     ]
    }
   ],
   "source": [
    "def longest_common_substring(str1, str2):\n",
    "    # Initialize a table to store lengths of longest common suffixes of substrings\n",
    "    table = [[0] * (len(str2) + 1) for _ in range(len(str1) + 1)]\n",
    "    \n",
    "    # Initialize variables to store the length of the longest common substring and its ending position\n",
    "    max_length = 0\n",
    "    end_index = 0\n",
    "    \n",
    "    # Fill the table using dynamic programming\n",
    "    for i in range(1, len(str1) + 1):\n",
    "        for j in range(1, len(str2) + 1):\n",
    "            if str1[i - 1] == str2[j - 1]:\n",
    "                table[i][j] = table[i - 1][j - 1] + 1\n",
    "                if table[i][j] > max_length:\n",
    "                    max_length = table[i][j]\n",
    "                    end_index = i\n",
    "            else:\n",
    "                table[i][j] = 0\n",
    "    \n",
    "    # Extract the longest common substring\n",
    "    longest_substring = str1[end_index - max_length:end_index]\n",
    "    \n",
    "    return longest_substring\n",
    "\n",
    "# Test the function\n",
    "string1 = input(\"Enter the first string: \")\n",
    "string2 = input(\"Enter the second string: \")\n",
    "result = longest_common_substring(string1, string2)\n",
    "if result:\n",
    "    print(\"Longest common substring:\", result)\n",
    "else:\n",
    "    print(\"There is no common substring.\")\n",
    "\n"
   ]
  }
 ],
 "metadata": {
  "kernelspec": {
   "display_name": "Python 3",
   "language": "python",
   "name": "python3"
  },
  "language_info": {
   "codemirror_mode": {
    "name": "ipython",
    "version": 3
   },
   "file_extension": ".py",
   "mimetype": "text/x-python",
   "name": "python",
   "nbconvert_exporter": "python",
   "pygments_lexer": "ipython3",
   "version": "3.12.0"
  }
 },
 "nbformat": 4,
 "nbformat_minor": 2
}
