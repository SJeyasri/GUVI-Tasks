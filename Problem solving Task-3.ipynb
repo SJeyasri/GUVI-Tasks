{
 "cells": [
  {
   "cell_type": "code",
   "execution_count": 33,
   "metadata": {},
   "outputs": [
    {
     "name": "stdout",
     "output_type": "stream",
     "text": [
      "10\n",
      "22\n",
      "100\n"
     ]
    }
   ],
   "source": [
    "#print even numbers from the set\n",
    "A=[10, 501, 22, 37, 100, 999, 87, 351]\n",
    "#i=0\n",
    "for A[i] in A :\n",
    "    if A[0]%2==0:\n",
    "        print(A[i])    \n",
    "    "
   ]
  },
  {
   "cell_type": "code",
   "execution_count": 26,
   "metadata": {},
   "outputs": [
    {
     "name": "stdout",
     "output_type": "stream",
     "text": [
      "[3     37    ]\n",
      "total prime numbers 2\n"
     ]
    }
   ],
   "source": [
    "#print and count prime numbers from the set\n",
    "A=[3,10, 501, 22, 37, 100, 999, 87, 351]\n",
    "i=0\n",
    "count = 0\n",
    "print(\"[\", end='')\n",
    "for A[i] in A :\n",
    "    if A[i]<=3:\n",
    "        print(A[i], end=' ')\n",
    "        count+=1\n",
    "    if A[i]%2 == 0:\n",
    "        print(end=' ')\n",
    "    elif A[i]%3 == 0:\n",
    "        print(end=' ')\n",
    "    elif A[i]%5 == 0:\n",
    "        print(end=' ')\n",
    "    else:\n",
    "        print(A[i], end='')\n",
    "        count +=1\n",
    "\n",
    "print(\"]\")\n",
    "print('total prime numbers',count)"
   ]
  },
  {
   "cell_type": "code",
   "execution_count": 48,
   "metadata": {},
   "outputs": [
    {
     "name": "stdout",
     "output_type": "stream",
     "text": [
      "19 is a happy number.\n"
     ]
    }
   ],
   "source": [
    "#checking happy number\n",
    "\n",
    "def is_happy_number(num): #defined the fucntion\n",
    "    seen = set() \n",
    "    while num != 1 and num not in seen: # Continue the process until the number becomes 1\n",
    "        seen.add(num) \n",
    "        num = sum(int(digit) ** 2 for digit in str(num)) # Calculated the sum of squares of each digit in the number\n",
    "    return num == 1 # The number is a Happy Number\n",
    "\n",
    "number_to_check = 19\n",
    "\n",
    "if is_happy_number(number_to_check):\n",
    "    print(f\"{number_to_check} is a happy number.\")\n",
    "else:\n",
    "    print(f\"{number_to_check} is not a happy number.\")\n",
    "\n",
    "\n"
   ]
  },
  {
   "cell_type": "code",
   "execution_count": 2,
   "metadata": {},
   "outputs": [
    {
     "name": "stdout",
     "output_type": "stream",
     "text": [
      "34\n",
      "3 4\n",
      "7\n"
     ]
    }
   ],
   "source": [
    "#First and last digits of integer\n",
    "inp=input(\"enter a number\") #get input\n",
    "print(inp)\n",
    "first=inp[0] #get first digit of an integer\n",
    "last=inp[-1] #last digit of an integer\n",
    "print(first, last) \n",
    "print(int(first)+int(last))#adding first and last digits of an integer"
   ]
  },
  {
   "cell_type": "code",
   "execution_count": 4,
   "metadata": {},
   "outputs": [
    {
     "name": "stdout",
     "output_type": "stream",
     "text": [
      "Minimum difference between bags: 2\n"
     ]
    }
   ],
   "source": [
    "def min_difference_between_bags(N, M, bags):\n",
    "    bags.sort()  # Sorting the bags in ascending order\n",
    "    min_diff = float('inf')  # Initializing min_diff to positive infinity\n",
    "    for i in range(N - M + 1):  # Iterating over possible starting indices of consecutive bags\n",
    "        max_mangoes = bags[i + M - 1]  # Finding maximum number of mangoes in the current consecutive bags\n",
    "        min_mangoes = bags[i]  # Finding minimum number of mangoes in the current consecutive bags\n",
    "        diff = max_mangoes - min_mangoes  # Calculating the difference between max and min mangoes\n",
    "        min_diff = min(min_diff, diff)  # Updating min_diff with the minimum difference found so far\n",
    "    return min_diff\n",
    "\n",
    "# Test values\n",
    "N = 6\n",
    "M = 3\n",
    "bags = [7, 3, 2, 4, 9, 12]\n",
    "\n",
    "# Calling the function\n",
    "min_diff = min_difference_between_bags(N, M, bags)\n",
    "\n",
    "# Printing the result\n",
    "print(\"Minimum difference between bags:\", min_diff)\n"
   ]
  },
  {
   "cell_type": "code",
   "execution_count": 36,
   "metadata": {},
   "outputs": [
    {
     "name": "stdout",
     "output_type": "stream",
     "text": [
      "Common elements: {50}\n"
     ]
    }
   ],
   "source": [
    "def find_duplicates(list1, list2, list3):\n",
    "    # Convert lists to sets\n",
    "    set1 = set(list1)\n",
    "    set2 = set(list2)\n",
    "    set3 = set(list3)\n",
    "    # Find duplicates using set intersection\n",
    "    duplicates = set1.intersection(set2, set3)\n",
    "    return common_elements\n",
    "# Test lists\n",
    "list1 = [10, 20, 30, 40, 50]\n",
    "list2 = [40, 50, 60, 70]\n",
    "list3 = [50, 60, 70, 80, 90]\n",
    "\n",
    "# Find duplicates\n",
    "duplicates = find_duplicates(list1, list2, list3)\n",
    "\n",
    "# Print the result\n",
    "print(\"Common elements:\", duplicates)\n"
   ]
  },
  {
   "cell_type": "code",
   "execution_count": 39,
   "metadata": {},
   "outputs": [
    {
     "name": "stdout",
     "output_type": "stream",
     "text": [
      "Non-repeating elements: [1, 2, 3, 5, 6, 8]\n"
     ]
    }
   ],
   "source": [
    "def find_non_repeating_elements(input_list):\n",
    "    # Dictionary to store the count of each element\n",
    "    element_count = {}\n",
    "    # Count occurrences of each element\n",
    "    for element in input_list:\n",
    "        if element in element_count:\n",
    "            element_count[element] += 1\n",
    "        else:\n",
    "            element_count[element] = 1\n",
    "    # Find non-repeating elements\n",
    "    non_repeating_elements = [element for element, count in element_count.items() if count == 1]\n",
    "    return non_repeating_elements\n",
    "# input list\n",
    "input_list = [1, 2, 3, 4, 4, 5, 6, 7, 7, 8]\n",
    "\n",
    "# Find non-repeating elements\n",
    "non_repeating_elements = find_non_repeating_elements(input_list)\n",
    "\n",
    "# Print the result\n",
    "print(\"Non-repeating elements:\", non_repeating_elements)\n"
   ]
  },
  {
   "cell_type": "code",
   "execution_count": null,
   "metadata": {},
   "outputs": [],
   "source": []
  }
 ],
 "metadata": {
  "kernelspec": {
   "display_name": "Python 3",
   "language": "python",
   "name": "python3"
  },
  "language_info": {
   "codemirror_mode": {
    "name": "ipython",
    "version": 3
   },
   "file_extension": ".py",
   "mimetype": "text/x-python",
   "name": "python",
   "nbconvert_exporter": "python",
   "pygments_lexer": "ipython3",
   "version": "3.12.0"
  }
 },
 "nbformat": 4,
 "nbformat_minor": 2
}
