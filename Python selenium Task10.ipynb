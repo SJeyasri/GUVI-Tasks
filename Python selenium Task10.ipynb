{
 "cells": [
  {
   "cell_type": "code",
   "execution_count": 11,
   "metadata": {},
   "outputs": [],
   "source": [
    "import os\n",
    "import time\n",
    "from selenium import webdriver\n",
    "from selenium.webdriver.chrome.options import Options\n",
    "from selenium.webdriver.common.by import By\n",
    "from selenium.webdriver.support.ui import WebDriverWait\n",
    "from selenium.webdriver.support import expected_conditions as EC\n",
    "\n",
    "# Setup WebDriver path and options\n",
    "paths = r\"Users/jeyasri/Desktop/chromedriver.exe\"\n",
    "os.environ[\"PATH\"] += os.pathsep + os.path.dirname(paths)\n",
    "chrome_options = Options()\n",
    "chrome_options.add_experimental_option(\"detach\", True)\n",
    "driver = webdriver.Chrome(options=chrome_options)\n",
    "\n",
    "# Navigate to the Instagram profile\n",
    "driver.get(\"https://www.instagram.com/guviofficial/\")\n",
    "wait = WebDriverWait(driver, 20)\n",
    "# Find the followers and following elements using explicit wait\n",
    "followers_element = wait.until(EC.presence_of_element_located((By.XPATH, \"//a[contains(@href,'followers')]/span\")))\n",
    "following_element = wait.until(EC.presence_of_element_located((By.XPATH, \"//a[contains(@href,'following')]/span\")))\n",
    "\n",
    "# Extract the text which contains the number of followers and following\n",
    "followers_count = followers_element.get_attribute(\"title\")  # Title attribute for followers\n",
    "following_count = following_element.text  # Text for following\n",
    "print(f\"Followers: {followers_count}\")\n",
    "print(f\"Following: {following_count}\")\n"
   ]
  }
 ],
 "metadata": {
  "kernelspec": {
   "display_name": "Python 3",
   "language": "python",
   "name": "python3"
  },
  "language_info": {
   "codemirror_mode": {
    "name": "ipython",
    "version": 3
   },
   "file_extension": ".py",
   "mimetype": "text/x-python",
   "name": "python",
   "nbconvert_exporter": "python",
   "pygments_lexer": "ipython3",
   "version": "3.12.0"
  }
 },
 "nbformat": 4,
 "nbformat_minor": 2
}
