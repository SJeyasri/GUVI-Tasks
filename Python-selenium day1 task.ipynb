{
 "cells": [
  {
   "cell_type": "code",
   "execution_count": 19,
   "metadata": {},
   "outputs": [
    {
     "name": "stdout",
     "output_type": "stream",
     "text": [
      "Title of the webpage: Swag Labs\n"
     ]
    }
   ],
   "source": [
    "from selenium import webdriver\n",
    "from selenium.webdriver.chrome.options import Options\n",
    "import os\n",
    "paths = r\"/Users/jeyasri/Desktop/chromedriver.exe\"\n",
    "os.environ[\"PATH\"] += os.pathsep + os.path.dirname(paths)\n",
    "chrome_options = Options()\n",
    "chrome_options.add_experimental_option(\"detach\", True)\n",
    "driver = webdriver.Chrome(options=chrome_options)\n",
    "driver.get(\"https://www.saucedemo.com/\")\n",
    "\n",
    "# Define login credentials\n",
    "username = \"standard_user\"\n",
    "password = \"secret_sauce\"\n",
    "\n",
    "\n",
    "# Find the username and password fields and login button\n",
    "username_field = driver.find_element(By.ID, \"user-name\")\n",
    "password_field = driver.find_element(By.ID, \"password\")\n",
    "login_button = driver.find_element(By.ID, \"login-button\")\n",
    "\n",
    "# Enter username and password\n",
    "username_field.send_keys(username)\n",
    "password_field.send_keys(password)\n",
    "\n",
    "# Click login button\n",
    "login_button.click()\n",
    "\n",
    "# Fetch the title of the webpage\n",
    "title = driver.title\n",
    "print(\"Title of the webpage:\", title)\n",
    "\n",
    "\n",
    "\n"
   ]
  },
  {
   "cell_type": "code",
   "execution_count": 18,
   "metadata": {},
   "outputs": [
    {
     "name": "stdout",
     "output_type": "stream",
     "text": [
      "Current URL of the webpage: https://www.saucedemo.com/inventory.html\n"
     ]
    }
   ],
   "source": [
    "from selenium import webdriver\n",
    "from selenium.webdriver.chrome.options import Options\n",
    "import os\n",
    "paths = r\"/Users/jeyasri/Desktop/chromedriver.exe\"\n",
    "os.environ[\"PATH\"] += os.pathsep + os.path.dirname(paths)\n",
    "chrome_options = Options()\n",
    "chrome_options.add_experimental_option(\"detach\", True)\n",
    "driver = webdriver.Chrome(options=chrome_options)\n",
    "driver.get(\"https://www.saucedemo.com/\")\n",
    "\n",
    "# Define login credentials\n",
    "username = \"standard_user\"\n",
    "password = \"secret_sauce\"\n",
    "\n",
    "\n",
    "# Find the username and password fields and login button\n",
    "username_field = driver.find_element(By.ID, \"user-name\")\n",
    "password_field = driver.find_element(By.ID, \"password\")\n",
    "login_button = driver.find_element(By.ID, \"login-button\")\n",
    "\n",
    "# Enter username and password\n",
    "username_field.send_keys(username)\n",
    "password_field.send_keys(password)\n",
    "\n",
    "# Click login button\n",
    "login_button.click()\n",
    "\n",
    "# Fetch the current URL of the webpage\n",
    "current_url = driver.current_url\n",
    "print(\"Current URL of the webpage:\", current_url)\n",
    "\n",
    "\n",
    "\n"
   ]
  },
  {
   "cell_type": "code",
   "execution_count": 25,
   "metadata": {},
   "outputs": [],
   "source": [
    "from selenium import webdriver\n",
    "from selenium.webdriver.chrome.options import Options\n",
    "import os\n",
    "paths = r\"/Users/jeyasri/Desktop/chromedriver.exe\"\n",
    "os.environ[\"PATH\"] += os.pathsep + os.path.dirname(paths)\n",
    "chrome_options = Options()\n",
    "chrome_options.add_experimental_option(\"detach\", True)\n",
    "driver = webdriver.Chrome(options=chrome_options)\n",
    "driver.get(\"https://www.saucedemo.com/\")\n",
    "\n",
    "# Define login credentials\n",
    "username = \"standard_user\"\n",
    "password = \"secret_sauce\"\n",
    "\n",
    "\n",
    "# Find the username and password fields and login button\n",
    "username_field = driver.find_element(By.ID, \"user-name\")\n",
    "password_field = driver.find_element(By.ID, \"password\")\n",
    "login_button = driver.find_element(By.ID, \"login-button\")\n",
    "\n",
    "# Enter username and password\n",
    "username_field.send_keys(username)\n",
    "password_field.send_keys(password)\n",
    "\n",
    "# Click login button\n",
    "login_button.click()\n",
    "\n",
    "# Wait for the page to load completely\n",
    "driver.implicitly_wait(10)\n",
    "\n",
    "# Extract all contents of the webpage\n",
    "page_source = driver.page_source\n",
    "\n",
    "# Save the contents to a text file\n",
    "with open(r\"/Users/jeyasri/Desktop/GUVI/GUVI-Tasks/selenium-python/Webpage_task_11.txt\", \"w\", encoding=\"utf-8\") as file:\n",
    "    file.write(page_source)\n",
    "\n",
    "\n"
   ]
  }
 ],
 "metadata": {
  "kernelspec": {
   "display_name": "Python 3",
   "language": "python",
   "name": "python3"
  },
  "language_info": {
   "codemirror_mode": {
    "name": "ipython",
    "version": 3
   },
   "file_extension": ".py",
   "mimetype": "text/x-python",
   "name": "python",
   "nbconvert_exporter": "python",
   "pygments_lexer": "ipython3",
   "version": "3.12.0"
  }
 },
 "nbformat": 4,
 "nbformat_minor": 2
}
