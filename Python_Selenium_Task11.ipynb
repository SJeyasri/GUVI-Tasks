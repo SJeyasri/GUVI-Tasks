{
 "cells": [
  {
   "cell_type": "code",
   "execution_count": 2,
   "metadata": {},
   "outputs": [],
   "source": [
    "from selenium import webdriver\n",
    "from selenium.webdriver.chrome.options import Options\n",
    "import time\n",
    "from selenium.webdriver.common.by import By\n",
    "import os\n",
    "from selenium.webdriver.common.keys import Keys\n",
    "from selenium.webdriver.common.action_chains import ActionChains\n",
    "# Setup WebDriver path and options\n",
    "paths = r\"Users/jeyasri/Desktop/chromedriver.exe\"\n",
    "os.environ[\"PATH\"] += os.pathsep + os.path.dirname(paths)\n",
    "chrome_options = Options()\n",
    "chrome_options.add_experimental_option(\"detach\", True)\n",
    "driver = webdriver.Chrome(options=chrome_options)\n",
    "time.sleep(2)\n",
    "driver.maximize_window()\n",
    "# Navigate to the url\n",
    "driver.get(\"https://jqueryui.com/droppable/\")\n",
    "time.sleep(5)\n",
    "driver.switch_to.frame(0)\n",
    "#Find the Drag and Drop elements\n",
    "s1=driver.find_element(By.ID,\"draggable\")\n",
    "d1=driver.find_element(By.ID,\"droppable\")\n",
    "time.sleep(3)\n",
    "#performing drag and drop action\n",
    "actions = ActionChains(driver)\n",
    "time.sleep(5)\n",
    "actions. drag_and_drop(s1,d1)\n",
    "actions. perform()\n",
    "time. sleep(5)"
   ]
  }
 ],
 "metadata": {
  "kernelspec": {
   "display_name": "Python 3",
   "language": "python",
   "name": "python3"
  },
  "language_info": {
   "codemirror_mode": {
    "name": "ipython",
    "version": 3
   },
   "file_extension": ".py",
   "mimetype": "text/x-python",
   "name": "python",
   "nbconvert_exporter": "python",
   "pygments_lexer": "ipython3",
   "version": "3.12.0"
  }
 },
 "nbformat": 4,
 "nbformat_minor": 2
}
