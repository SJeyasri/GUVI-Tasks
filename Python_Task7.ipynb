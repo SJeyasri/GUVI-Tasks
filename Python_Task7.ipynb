{
 "cells": [
  {
   "cell_type": "code",
   "execution_count": 9,
   "metadata": {},
   "outputs": [
    {
     "name": "stdout",
     "output_type": "stream",
     "text": [
      "File 'timestamp_2024-05-27_14-35-12.txt' with the current timestamp has been created.\n"
     ]
    }
   ],
   "source": [
    "import os\n",
    "from datetime import datetime\n",
    "\n",
    "def create_timestamp_file():\n",
    "    # Get the current timestamp\n",
    "    current_time = datetime.now().strftime(\"%Y-%m-%d_%H-%M-%S\")\n",
    "    \n",
    "    # Define the file name with the current timestamp\n",
    "    file_name = f\"timestamp_{current_time}.txt\"\n",
    "    \n",
    "    # Define the full path to the file\n",
    "    file_path = \"/Users/jeyasri/Desktop/GUVI/GUVI-Tasks/\" + file_name\n",
    "    \n",
    "    # Create the text file and write the current timestamp to it\n",
    "    with open(file_path, \"w\") as file:\n",
    "        file.write(current_time)\n",
    "    \n",
    "    print(f\"File '{file_name}' with the current timestamp has been created.\")\n",
    "\n",
    "# Call the function to create the timestamp file\n",
    "create_timestamp_file()\n"
   ]
  },
  {
   "cell_type": "code",
   "execution_count": 11,
   "metadata": {},
   "outputs": [
    {
     "name": "stdout",
     "output_type": "stream",
     "text": [
      "Content of the file:\n",
      "Test content to display on the console.\n"
     ]
    }
   ],
   "source": [
    "def read_text_file(file_name):\n",
    "    try:\n",
    "        # Open the file in read mode\n",
    "        with open(file_name, \"r\") as file:\n",
    "            # Read the content of the file\n",
    "            file_content = file.read()\n",
    "            # Display the content in the console\n",
    "            print(\"Content of the file:\")\n",
    "            print(file_content)\n",
    "    except FileNotFoundError:\n",
    "        print(f\"File '{file_name}' not found.\")\n",
    "    except Exception as e:\n",
    "        print(f\"An error occurred: {e}\")\n",
    "\n",
    "# Example usage:\n",
    "# Specify the name of the text file you want to read\n",
    "file_name = \"/Users/jeyasri/Desktop/GUVI/GUVI-Tasks/Timestamp.txt\"\n",
    "# Call the function to read and display the content of the file\n",
    "read_text_file(file_name)\n"
   ]
  }
 ],
 "metadata": {
  "kernelspec": {
   "display_name": "Python 3",
   "language": "python",
   "name": "python3"
  },
  "language_info": {
   "codemirror_mode": {
    "name": "ipython",
    "version": 3
   },
   "file_extension": ".py",
   "mimetype": "text/x-python",
   "name": "python",
   "nbconvert_exporter": "python",
   "pygments_lexer": "ipython3",
   "version": "3.12.0"
  }
 },
 "nbformat": 4,
 "nbformat_minor": 2
}
