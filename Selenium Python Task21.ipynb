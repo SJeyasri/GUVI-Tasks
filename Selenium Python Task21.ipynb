{
 "cells": [
  {
   "cell_type": "code",
   "execution_count": 1,
   "metadata": {},
   "outputs": [
    {
     "name": "stdout",
     "output_type": "stream",
     "text": [
      "Cookies before login:\n",
      "\n",
      "Cookies after login:\n",
      "{'domain': 'www.saucedemo.com', 'expiry': 1716791228, 'httpOnly': False, 'name': 'session-username', 'path': '/', 'sameSite': 'Lax', 'secure': False, 'value': 'standard_user'}\n"
     ]
    }
   ],
   "source": [
    "import os\n",
    "import time\n",
    "import requests\n",
    "from selenium import webdriver\n",
    "from selenium.webdriver.common.by import By\n",
    "from selenium.webdriver.common.action_chains import ActionChains\n",
    "from selenium.webdriver.chrome.options import Options\n",
    "\n",
    "# Setup WebDriver path and options\n",
    "paths = r\"/Users/jeyasri/Desktop/chromedriver.exe\"\n",
    "os.environ[\"PATH\"] += os.pathsep + os.path.dirname(paths)\n",
    "chrome_options = Options()\n",
    "chrome_options.add_experimental_option(\"detach\", True)\n",
    "driver = webdriver.Chrome(options=chrome_options)\n",
    "\n",
    "# Navigate to the Sauce Demo website\n",
    "driver.get(\"https://www.saucedemo.com/\")\n",
    "time.sleep(3)  # Wait for the page to load\n",
    "\n",
    "# Display cookies before login\n",
    "print(\"Cookies before login:\")\n",
    "cookies_before_login = driver.get_cookies()\n",
    "for cookie in cookies_before_login:\n",
    "    print(cookie)\n",
    "\n",
    "# Log in to the dashboard\n",
    "username_input = driver.find_element(By.ID, \"user-name\")\n",
    "password_input = driver.find_element(By.ID, \"password\")\n",
    "login_button = driver.find_element(By.ID, \"login-button\")\n",
    "\n",
    "username_input.send_keys(\"standard_user\")\n",
    "password_input.send_keys(\"secret_sauce\")\n",
    "login_button.click()\n",
    "time.sleep(3)  # Wait for the page to load\n",
    "\n",
    "# Display cookies after login\n",
    "print(\"\\nCookies after login:\")\n",
    "cookies_after_login = driver.get_cookies()\n",
    "for cookie in cookies_after_login:\n",
    "    print(cookie)\n",
    "# Close the browser\n",
    "#driver.quit()\n"
   ]
  }
 ],
 "metadata": {
  "kernelspec": {
   "display_name": "Python 3",
   "language": "python",
   "name": "python3"
  },
  "language_info": {
   "codemirror_mode": {
    "name": "ipython",
    "version": 3
   },
   "file_extension": ".py",
   "mimetype": "text/x-python",
   "name": "python",
   "nbconvert_exporter": "python",
   "pygments_lexer": "ipython3",
   "version": "3.12.0"
  }
 },
 "nbformat": 4,
 "nbformat_minor": 2
}
