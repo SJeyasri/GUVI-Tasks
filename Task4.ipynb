{
 "cells": [
  {
   "cell_type": "code",
   "execution_count": 1,
   "metadata": {},
   "outputs": [
    {
     "name": "stdout",
     "output_type": "stream",
     "text": [
      "[10, 501, 22, 37, 100, 999, 87, 351]\n"
     ]
    }
   ],
   "source": [
    "class Circle:\n",
    "    def __init__(self, data_list):\n",
    "        self.data_list = data_list\n",
    "\n",
    "# Test the class with the provided list\n",
    "circle_instance = Circle([10, 501, 22, 37, 100, 999, 87, 351])\n",
    "print(circle_instance.data_list)"
   ]
  },
  {
   "cell_type": "code",
   "execution_count": 2,
   "metadata": {},
   "outputs": [
    {
     "name": "stdout",
     "output_type": "stream",
     "text": [
      "[314.1, 788394.1410000001, 1520.244, 4300.029, 31410.0, 3134721.141, 23774.229, 386974.341]\n",
      "[62.82, 3147.282, 138.204, 232.434, 628.2, 6275.718, 546.534, 2204.982]\n"
     ]
    }
   ],
   "source": [
    "class Circle:\n",
    "    _pi = 3.141  # Private member variable\n",
    "    \n",
    "    def __init__(self, data_list):\n",
    "        self._data_list = data_list\n",
    "        self._radius_list = [radius for radius in data_list]  # Assuming the list contains radii\n",
    "    \n",
    "    def calculate_area(self):\n",
    "        areas = [self._pi * radius**2 for radius in self._radius_list]\n",
    "        return areas\n",
    "\n",
    "    def calculate_circumference(self):\n",
    "        circumferences = [2 * self._pi * radius for radius in self._radius_list]\n",
    "        return circumferences\n",
    "\n",
    "# Test the class with the provided list\n",
    "circle_instance = Circle([10, 501, 22, 37, 100, 999, 87, 351])\n",
    "print(circle_instance.calculate_area())\n",
    "print(circle_instance.calculate_circumference())\n"
   ]
  },
  {
   "cell_type": "code",
   "execution_count": 3,
   "metadata": {},
   "outputs": [
    {
     "name": "stdout",
     "output_type": "stream",
     "text": [
      "Areas: [314.1, 788394.1410000001, 1520.244, 4300.029, 31410.0, 3134721.141, 23774.229, 386974.341]\n",
      "Perimeters: [62.82, 3147.282, 138.204, 232.434, 628.2, 6275.718, 546.534, 2204.982]\n"
     ]
    }
   ],
   "source": [
    "class Circle:\n",
    "    _pi = 3.141  # Private class variable\n",
    "\n",
    "    @classmethod\n",
    "    def area(cls, radius_list):\n",
    "        areas = [cls._pi * radius**2 for radius in radius_list]\n",
    "        return areas\n",
    "\n",
    "    @classmethod\n",
    "    def perimeter(cls, radius_list):\n",
    "        perimeters = [2 * cls._pi * radius for radius in radius_list]\n",
    "        return perimeters\n",
    "\n",
    "\n",
    "# Test the class methods with the provided list\n",
    "radius_list = [10, 501, 22, 37, 100, 999, 87, 351]\n",
    "\n",
    "print(\"Areas:\", Circle.area(radius_list))\n",
    "print(\"Perimeters:\", Circle.perimeter(radius_list))\n"
   ]
  },
  {
   "cell_type": "code",
   "execution_count": 4,
   "metadata": {},
   "outputs": [
    {
     "name": "stdout",
     "output_type": "stream",
     "text": [
      "Samsung at channel 10, volume 51\n",
      "Screen Thickness: 0 inches, Energy Usage: 0, Lifespan: 0 years, Refresh Rate: 0 Hz\n",
      "LG at channel 5, volume 49\n",
      "Screen Thickness: 0 inches, Energy Usage: 0, Lifespan: 0 years, Refresh Rate: 0 Hz\n"
     ]
    }
   ],
   "source": [
    "class TV:\n",
    "    def __init__(self, brand):\n",
    "        self.brand = brand\n",
    "        self.channel = 1\n",
    "        self.price = 0  # Default price\n",
    "        self.inches = 0  # Default inches\n",
    "        self.on = False  # Default off\n",
    "        self.volume = 50\n",
    "\n",
    "    def increase_volume(self):\n",
    "        if self.volume < 100:\n",
    "            self.volume += 1\n",
    "\n",
    "    def decrease_volume(self):\n",
    "        if self.volume > 0:\n",
    "            self.volume -= 1\n",
    "\n",
    "    def set_channel(self, channel):\n",
    "        if 1 <= channel <= 50:\n",
    "            self.channel = channel\n",
    "\n",
    "    def reset(self):\n",
    "        self.channel = 1\n",
    "        self.volume = 50\n",
    "\n",
    "    def status(self):\n",
    "        return f\"{self.brand} at channel {self.channel}, volume {self.volume}\"\n",
    "\n",
    "\n",
    "class LedTV(TV):\n",
    "    def __init__(self, brand):\n",
    "        super().__init__(brand)\n",
    "        self.screen_thickness = 0\n",
    "        self.energy_usage = 0\n",
    "        self.lifespan = 0\n",
    "        self.refresh_rate = 0\n",
    "\n",
    "    def display_details(self):\n",
    "        return f\"Screen Thickness: {self.screen_thickness} inches, Energy Usage: {self.energy_usage}, Lifespan: {self.lifespan} years, Refresh Rate: {self.refresh_rate} Hz\"\n",
    "\n",
    "\n",
    "class PlasmaTV(TV):\n",
    "    def __init__(self, brand):\n",
    "        super().__init__(brand)\n",
    "        self.screen_thickness = 0\n",
    "        self.energy_usage = 0\n",
    "        self.lifespan = 0\n",
    "        self.refresh_rate = 0\n",
    "\n",
    "    def display_details(self):\n",
    "        return f\"Screen Thickness: {self.screen_thickness} inches, Energy Usage: {self.energy_usage}, Lifespan: {self.lifespan} years, Refresh Rate: {self.refresh_rate} Hz\"\n",
    "\n",
    "\n",
    "# Test the classes\n",
    "led_tv = LedTV(\"Samsung\")\n",
    "led_tv.set_channel(10)\n",
    "led_tv.increase_volume()\n",
    "print(led_tv.status())\n",
    "print(led_tv.display_details())\n",
    "\n",
    "plasma_tv = PlasmaTV(\"LG\")\n",
    "plasma_tv.set_channel(5)\n",
    "plasma_tv.decrease_volume()\n",
    "print(plasma_tv.status())\n",
    "print(plasma_tv.display_details())\n"
   ]
  }
 ],
 "metadata": {
  "kernelspec": {
   "display_name": "Python 3",
   "language": "python",
   "name": "python3"
  },
  "language_info": {
   "codemirror_mode": {
    "name": "ipython",
    "version": 3
   },
   "file_extension": ".py",
   "mimetype": "text/x-python",
   "name": "python",
   "nbconvert_exporter": "python",
   "pygments_lexer": "ipython3",
   "version": "3.12.0"
  }
 },
 "nbformat": 4,
 "nbformat_minor": 2
}
