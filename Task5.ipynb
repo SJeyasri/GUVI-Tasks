{
 "cells": [
  {
   "cell_type": "code",
   "execution_count": null,
   "metadata": {},
   "outputs": [],
   "source": [
    "#Task1: Ans: All elements of the list data satisfy the condition x > 4, so all elements are included in the filtered result. Therefore, the output is the same as the original list data.\n"
   ]
  },
  {
   "cell_type": "code",
   "execution_count": 1,
   "metadata": {},
   "outputs": [
    {
     "name": "stdout",
     "output_type": "stream",
     "text": [
      "[True, True, False, True, True, True]\n"
     ]
    }
   ],
   "source": [
    "#Task 2\n",
    "\n",
    "# Sample list containing mixed types of elements\n",
    "mixed_list = [10, 'hello', 3.14, 'world', 20, 'openai']\n",
    "\n",
    "# Using lambda function with map to check type of each element\n",
    "result = map(lambda x: isinstance(x, (int, str)), mixed_list)\n",
    "\n",
    "# Converting map object to list and printing the result\n",
    "print(list(result))\n"
   ]
  },
  {
   "cell_type": "code",
   "execution_count": 2,
   "metadata": {},
   "outputs": [
    {
     "name": "stdout",
     "output_type": "stream",
     "text": [
      "[0, 1, 1, 2, 3, 5, 8, 13, 21, 34, 55, 89, 144, 233, 377, 610, 987, 1597, 2584, 4181, 6765, 10946, 17711, 28657, 46368, 75025, 121393, 196418, 317811, 514229, 832040, 1346269, 2178309, 3524578, 5702887, 9227465, 14930352, 24157817, 39088169, 63245986, 102334155, 165580141, 267914296, 433494437, 701408733, 1134903170, 1836311903, 2971215073, 4807526976, 7778742049]\n"
     ]
    }
   ],
   "source": [
    "#Task 3\n",
    "from functools import reduce\n",
    "\n",
    "# Define a lambda function to generate Fibonacci sequence\n",
    "fib = lambda n: reduce(lambda x, _: x + [x[-1] + x[-2]], range(n - 2), [0, 1])\n",
    "\n",
    "# Generate Fibonacci series up to 50 elements\n",
    "fib_series = fib(50)\n",
    "\n",
    "# Print the Fibonacci series\n",
    "print(fib_series)\n"
   ]
  },
  {
   "cell_type": "code",
   "execution_count": null,
   "metadata": {},
   "outputs": [],
   "source": []
  }
 ],
 "metadata": {
  "kernelspec": {
   "display_name": "Python 3",
   "language": "python",
   "name": "python3"
  },
  "language_info": {
   "codemirror_mode": {
    "name": "ipython",
    "version": 3
   },
   "file_extension": ".py",
   "mimetype": "text/x-python",
   "name": "python",
   "nbconvert_exporter": "python",
   "pygments_lexer": "ipython3",
   "version": "3.12.0"
  }
 },
 "nbformat": 4,
 "nbformat_minor": 2
}
